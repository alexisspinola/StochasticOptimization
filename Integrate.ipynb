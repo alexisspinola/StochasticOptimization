{
 "cells": [
  {
   "cell_type": "markdown",
   "metadata": {},
   "source": [
    "Definición de parámetros"
   ]
  },
  {
   "cell_type": "code",
   "execution_count": 1,
   "metadata": {},
   "outputs": [],
   "source": [
    "import math"
   ]
  },
  {
   "cell_type": "code",
   "execution_count": 2,
   "metadata": {},
   "outputs": [
    {
     "name": "stdout",
     "output_type": "stream",
     "text": [
      "2272984.0\n"
     ]
    }
   ],
   "source": [
    "v_lambda = 74\n",
    "mu = float(30716)\n",
    "lambda_mu = v_lambda*mu\n",
    "lambda_mu = float(lambda_mu)\n",
    "print(lambda_mu) "
   ]
  },
  {
   "cell_type": "markdown",
   "metadata": {},
   "source": [
    "Entonces c debe ser mayor a lambda_mu. Por lo que se elije un valor 20% arriba de manera arbitraria."
   ]
  },
  {
   "cell_type": "code",
   "execution_count": 3,
   "metadata": {},
   "outputs": [
    {
     "name": "stdout",
     "output_type": "stream",
     "text": [
      "2727580.8\n"
     ]
    }
   ],
   "source": [
    "c = lambda_mu*1.2\n",
    "print(c)"
   ]
  },
  {
   "cell_type": "markdown",
   "metadata": {},
   "source": [
    "Se calcula el valor de la carga de seguridad"
   ]
  },
  {
   "cell_type": "code",
   "execution_count": 4,
   "metadata": {},
   "outputs": [
    {
     "name": "stdout",
     "output_type": "stream",
     "text": [
      "0.19999999999999993\n"
     ]
    }
   ],
   "source": [
    "theta = (c-lambda_mu)/lambda_mu\n",
    "print(theta)"
   ]
  },
  {
   "cell_type": "markdown",
   "metadata": {},
   "source": [
    "R < (2theta*mu)/mu^2"
   ]
  },
  {
   "cell_type": "code",
   "execution_count": 5,
   "metadata": {},
   "outputs": [
    {
     "name": "stdout",
     "output_type": "stream",
     "text": [
      "1.0418023180101573e-05\n"
     ]
    }
   ],
   "source": [
    "r = ((2*theta*mu)/mu**2)*0.80\n",
    "print(r)"
   ]
  },
  {
   "cell_type": "code",
   "execution_count": 6,
   "metadata": {},
   "outputs": [
    {
     "name": "stdout",
     "output_type": "stream",
     "text": [
      "31546.2934531367\n"
     ]
    }
   ],
   "source": [
    "media = 30717\n",
    "var = 969007496\n",
    "beta = var/media\n",
    "print(beta)"
   ]
  },
  {
   "cell_type": "code",
   "execution_count": 7,
   "metadata": {},
   "outputs": [
    {
     "name": "stdout",
     "output_type": "stream",
     "text": [
      "3.169944518158815e-05\n"
     ]
    }
   ],
   "source": [
    "alpha =  media /var\n",
    "print(alpha)"
   ]
  },
  {
   "cell_type": "markdown",
   "metadata": {},
   "source": [
    "Integración numérica "
   ]
  },
  {
   "cell_type": "code",
   "execution_count": 8,
   "metadata": {},
   "outputs": [],
   "source": [
    "def funcion(x,alpha,u,theta):\n",
    "    func = ((x**alpha)*math.exp(-alpha*u*x))/((x**alpha)*(1+alpha*(1+theta)*(x+1))-math.cos(alpha*u))**2+math.sin(alpha*u)**2\n",
    "    #func = ((math.pow(x,alpha))*math.exp(-(x+1)*alpha*mu))/((x**alpha)*(1+alpha*(1+theta)*(x+1))-math.cos(alpha*math.pi))**2+math.sin(alpha*math.pi)**2\n",
    "    #func = ((x**alpha)*math.exp(-alpha*mu*x))/((x**alpha)*(1+alpha*(1+theta)*(x+1))-math.cos(alpha*mu))**2+math.sin(alpha*mu)**2\n",
    "    return func"
   ]
  },
  {
   "cell_type": "code",
   "execution_count": 9,
   "metadata": {},
   "outputs": [],
   "source": [
    "def integrate(alpha,u,theta):\n",
    "    \n",
    "    a= 0\n",
    "    b= 10000\n",
    "    n= 1000000\n",
    "    deltax = (b-a)/n\n",
    "    sum = 0\n",
    "    for i in range(0,n+1):\n",
    "        xi = a+i*deltax\n",
    "        if xi == a or xi == b:\n",
    "            eval = funcion(xi,alpha,u,theta)\n",
    "            #eval = math.exp(-alpha*mu)*funcion(xi,alpha,mu,theta)\n",
    "        else:\n",
    "            eval = 2*funcion(xi,alpha,u,theta)\n",
    "            #eval = math.exp(-alpha*mu)*2*funcion(xi,alpha,mu,theta)\n",
    "        sum = sum + eval \n",
    "    \n",
    "    total = (deltax/2)*sum\n",
    "    return total\n",
    "        \n",
    "        \n",
    "\n",
    "\n",
    "\n"
   ]
  },
  {
   "cell_type": "code",
   "execution_count": 10,
   "metadata": {},
   "outputs": [
    {
     "data": {
      "text/plain": [
       "402129722758.1607"
      ]
     },
     "execution_count": 10,
     "metadata": {},
     "output_type": "execute_result"
    }
   ],
   "source": [
    "integrate(0.0000316,0,0.199)"
   ]
  },
  {
   "cell_type": "code",
   "execution_count": 17,
   "metadata": {},
   "outputs": [],
   "source": [
    "#aquí\n",
    "\n",
    "\n",
    "def approximation(alpha,theta,r,u):\n",
    "    \n",
    "    #fi_u = ((theta*((1-(r/alpha))*math.exp(-1*r*mu)))/(1+(1+theta)*r-(1+theta)*(1-(r/alpha))))+((alpha*theta+math.sin(alpha*pi))/pi)*integrate(alpha,mu,theta)\n",
    "    fi_u = ((theta*(1-(r/alpha))*math.exp(-r*u)))/(1+(1+theta)*r-(1+theta)*(1-(r/alpha)))+((alpha*theta*math.sin(alpha*math.pi))/math.pi)*2.7177e+08\n",
    "    return fi_u"
   ]
  },
  {
   "cell_type": "code",
   "execution_count": 12,
   "metadata": {},
   "outputs": [
    {
     "name": "stdout",
     "output_type": "stream",
     "text": [
      "0.8089487732649687\n"
     ]
    }
   ],
   "source": [
    "alpha = 0.0000316\n",
    "theta = 0.199\n",
    "r = 0.00001\n",
    "u = 0\n",
    "func  = ((theta*(1-(r/alpha))*math.exp(-r*u)))/(1+(1+theta)*r-(1+theta)*(1-(r/alpha)))+((alpha*theta*math.sin(alpha*math.pi))/math.pi)*2.7731e+08\n",
    "#func = ((alpha*theta*math.sin(alpha*math.pi))/math.pi)*2.7731e+8\n",
    "\n",
    "func2 = ((theta*(1-(r/alpha))*math.exp(-r*u)))/(1+(1+theta)*r-(1+theta)*(1-(r/alpha)))\n",
    "print(func)"
   ]
  },
  {
   "cell_type": "markdown",
   "metadata": {},
   "source": [
    "R < (2theta*mu)/mu^2"
   ]
  },
  {
   "cell_type": "code",
   "execution_count": 13,
   "metadata": {},
   "outputs": [
    {
     "data": {
      "text/plain": [
       "0.6093274986641247"
      ]
     },
     "execution_count": 13,
     "metadata": {},
     "output_type": "execute_result"
    }
   ],
   "source": [
    "approximation(0.9185,0.3,0.2209,1)"
   ]
  },
  {
   "cell_type": "code",
   "execution_count": 18,
   "metadata": {},
   "outputs": [
    {
     "data": {
      "text/plain": [
       "0.8147882685244061"
      ]
     },
     "execution_count": 18,
     "metadata": {},
     "output_type": "execute_result"
    }
   ],
   "source": [
    "#aquí le mueves el ultimo\n",
    "approximation(0.0000316,0.19999999,0.00001,0)\n"
   ]
  },
  {
   "cell_type": "code",
   "execution_count": 19,
   "metadata": {},
   "outputs": [
    {
     "name": "stdout",
     "output_type": "stream",
     "text": [
      "0.02507999999999999\n"
     ]
    }
   ],
   "source": [
    "test= 0.83402-0.80894\n",
    "print(test)"
   ]
  }
 ],
 "metadata": {
  "kernelspec": {
   "display_name": "Python 3.8.8 ('base')",
   "language": "python",
   "name": "python3"
  },
  "language_info": {
   "codemirror_mode": {
    "name": "ipython",
    "version": 3
   },
   "file_extension": ".py",
   "mimetype": "text/x-python",
   "name": "python",
   "nbconvert_exporter": "python",
   "pygments_lexer": "ipython3",
   "version": "3.8.8"
  },
  "orig_nbformat": 4,
  "vscode": {
   "interpreter": {
    "hash": "47918c48fc2ad4a98a57674f8e5b4a3803200f93c3897dc52f14a2f8f2d52b8d"
   }
  }
 },
 "nbformat": 4,
 "nbformat_minor": 2
}
